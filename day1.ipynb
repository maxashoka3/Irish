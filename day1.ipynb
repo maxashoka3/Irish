{
  "nbformat": 4,
  "nbformat_minor": 0,
  "metadata": {
    "colab": {
      "provenance": [],
      "authorship_tag": "ABX9TyONYvTElmhPn+/IwPWb+C/L",
      "include_colab_link": true
    },
    "kernelspec": {
      "name": "python3",
      "display_name": "Python 3"
    },
    "language_info": {
      "name": "python"
    }
  },
  "cells": [
    {
      "cell_type": "markdown",
      "metadata": {
        "id": "view-in-github",
        "colab_type": "text"
      },
      "source": [
        "<a href=\"https://colab.research.google.com/github/maxashoka3/Irish/blob/master/day1.ipynb\" target=\"_parent\"><img src=\"https://colab.research.google.com/assets/colab-badge.svg\" alt=\"Open In Colab\"/></a>"
      ]
    },
    {
      "cell_type": "markdown",
      "source": [
        "## topic\n",
        "hello how ar eyou my friends"
      ],
      "metadata": {
        "id": "D9Pr45-4P9nE"
      }
    },
    {
      "cell_type": "code",
      "source": [
        "# prompt: prrogram for python generator\n",
        "\n",
        "def my_generator():\n",
        "  yield 'hello'\n",
        "  yield 'how'\n",
        "  yield 'are'\n",
        "  yield 'you'\n",
        "  yield 'my'\n",
        "  yield 'friends'\n"
      ],
      "metadata": {
        "id": "WjMzPSYxQEd8"
      },
      "execution_count": null,
      "outputs": []
    }
  ]
}