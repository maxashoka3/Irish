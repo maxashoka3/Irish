{
  "nbformat": 4,
  "nbformat_minor": 0,
  "metadata": {
    "colab": {
      "provenance": [],
      "authorship_tag": "ABX9TyObZxT+EIu3/r9+MgdyyDW6",
      "include_colab_link": true
    },
    "kernelspec": {
      "name": "python3",
      "display_name": "Python 3"
    },
    "language_info": {
      "name": "python"
    }
  },
  "cells": [
    {
      "cell_type": "markdown",
      "metadata": {
        "id": "view-in-github",
        "colab_type": "text"
      },
      "source": [
        "<a href=\"https://colab.research.google.com/github/maxashoka3/Irish/blob/master/day1.ipynb\" target=\"_parent\"><img src=\"https://colab.research.google.com/assets/colab-badge.svg\" alt=\"Open In Colab\"/></a>"
      ]
    },
    {
      "cell_type": "markdown",
      "source": [
        "## topic\n",
        "hello how ar eyou my friends"
      ],
      "metadata": {
        "id": "D9Pr45-4P9nE"
      }
    },
    {
      "cell_type": "code",
      "source": [],
      "metadata": {
        "id": "WjMzPSYxQEd8"
      },
      "execution_count": null,
      "outputs": []
    }
  ]
}